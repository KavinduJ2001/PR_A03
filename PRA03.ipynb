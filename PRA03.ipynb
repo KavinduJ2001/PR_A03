{
  "cells": [
    {
      "cell_type": "markdown",
      "metadata": {
        "id": "view-in-github",
        "colab_type": "text"
      },
      "source": [
        "<a href=\"https://colab.research.google.com/github/KavinduJ2001/PR_A03/blob/main/PRA03.ipynb\" target=\"_parent\"><img src=\"https://colab.research.google.com/assets/colab-badge.svg\" alt=\"Open In Colab\"/></a>"
      ]
    },
    {
      "cell_type": "code",
      "execution_count": 2,
      "metadata": {
        "colab": {
          "base_uri": "https://localhost:8080/"
        },
        "id": "-Xv-zzOQ9jd0",
        "outputId": "838e92ce-ac61-44dd-ba72-ff97732624b3"
      },
      "outputs": [
        {
          "output_type": "stream",
          "name": "stdout",
          "text": [
            "Collecting ucimlrepo\n",
            "  Downloading ucimlrepo-0.0.7-py3-none-any.whl.metadata (5.5 kB)\n",
            "Requirement already satisfied: pandas>=1.0.0 in /usr/local/lib/python3.10/dist-packages (from ucimlrepo) (2.2.2)\n",
            "Requirement already satisfied: certifi>=2020.12.5 in /usr/local/lib/python3.10/dist-packages (from ucimlrepo) (2024.8.30)\n",
            "Requirement already satisfied: numpy>=1.22.4 in /usr/local/lib/python3.10/dist-packages (from pandas>=1.0.0->ucimlrepo) (1.26.4)\n",
            "Requirement already satisfied: python-dateutil>=2.8.2 in /usr/local/lib/python3.10/dist-packages (from pandas>=1.0.0->ucimlrepo) (2.8.2)\n",
            "Requirement already satisfied: pytz>=2020.1 in /usr/local/lib/python3.10/dist-packages (from pandas>=1.0.0->ucimlrepo) (2024.2)\n",
            "Requirement already satisfied: tzdata>=2022.7 in /usr/local/lib/python3.10/dist-packages (from pandas>=1.0.0->ucimlrepo) (2024.2)\n",
            "Requirement already satisfied: six>=1.5 in /usr/local/lib/python3.10/dist-packages (from python-dateutil>=2.8.2->pandas>=1.0.0->ucimlrepo) (1.16.0)\n",
            "Downloading ucimlrepo-0.0.7-py3-none-any.whl (8.0 kB)\n",
            "Installing collected packages: ucimlrepo\n",
            "Successfully installed ucimlrepo-0.0.7\n"
          ]
        }
      ],
      "source": [
        "pip install ucimlrepo"
      ]
    },
    {
      "cell_type": "code",
      "execution_count": 3,
      "metadata": {
        "colab": {
          "base_uri": "https://localhost:8080/"
        },
        "id": "xIwG1G_z9WC6",
        "outputId": "78b2a5db-64bd-469d-d9e1-554dffb3b466"
      },
      "outputs": [
        {
          "output_type": "stream",
          "name": "stdout",
          "text": [
            "{'uci_id': 50, 'name': 'Image Segmentation', 'repository_url': 'https://archive.ics.uci.edu/dataset/50/image+segmentation', 'data_url': 'https://archive.ics.uci.edu/static/public/50/data.csv', 'abstract': 'Image data described by high-level numeric-valued attributes, 7 classes', 'area': 'Other', 'tasks': ['Classification'], 'characteristics': ['Multivariate'], 'num_instances': 2310, 'num_features': 19, 'feature_types': ['Real'], 'demographics': [], 'target_col': ['class'], 'index_col': None, 'has_missing_values': 'no', 'missing_values_symbol': None, 'year_of_dataset_creation': 1990, 'last_updated': 'Fri Oct 27 2023', 'dataset_doi': '10.24432/C5GP4N', 'creators': [], 'intro_paper': None, 'additional_info': {'summary': 'The instances were drawn randomly from a database of 7 outdoor images.  The images were handsegmented to create a classification for every pixel.  \\r\\n\\r\\n   Each instance is a 3x3 region.', 'purpose': None, 'funded_by': None, 'instances_represent': None, 'recommended_data_splits': None, 'sensitive_data': None, 'preprocessing_description': None, 'variable_info': '    1.  region-centroid-col:  the column of the center pixel of the region.\\r\\n    2.  region-centroid-row:  the row of the center pixel of the region.\\r\\n    3.  region-pixel-count:  the number of pixels in a region = 9.\\r\\n    4.  short-line-density-5:  the results of a line extractoin algorithm that counts how many lines of length 5 (any orientation) with low contrast, less than or equal to 5, go through the region.\\r\\n    5.  short-line-density-2:  same as short-line-density-5 but counts lines of high contrast, greater than 5.\\r\\n    6.  vedge-mean:  measure the contrast of horizontally adjacent pixels in the region.  There are 6, the mean and standard deviation are given.  This attribute is used as a vertical edge detector.\\r\\n    7.  vegde-sd:  (see 6)\\r\\n    8.  hedge-mean:  measures the contrast of vertically adjacent pixels. Used for horizontal line detection. \\r\\n    9.  hedge-sd: (see 8).\\r\\n    10. intensity-mean:  the average over the region of (R + G + B)/3\\r\\n    11. rawred-mean: the average over the region of the R value.\\r\\n    12. rawblue-mean: the average over the region of the B value.\\r\\n    13. rawgreen-mean: the average over the region of the G value.\\r\\n    14. exred-mean: measure the excess red:  (2R - (G + B))\\r\\n    15. exblue-mean: measure the excess blue:  (2B - (G + R))\\r\\n    16. exgreen-mean: measure the excess green:  (2G - (R + B))\\r\\n    17. value-mean:  3-d nonlinear transformation of RGB. (Algorithm can be found in Foley and VanDam, Fundamentals of Interactive Computer Graphics)\\r\\n    18. saturatoin-mean:  (see 17)\\r\\n    19. hue-mean:  (see 17)', 'citation': None}}\n",
            "                    name     role         type demographic  \\\n",
            "0                  class   Target  Categorical        None   \n",
            "1    region-centroid-col  Feature   Continuous        None   \n",
            "2    region-centroid-row  Feature   Continuous        None   \n",
            "3     region-pixel-count  Feature   Continuous        None   \n",
            "4   short-line-density-5  Feature   Continuous        None   \n",
            "5   short-line-density-2  Feature   Continuous        None   \n",
            "6             vedge-mean  Feature   Continuous        None   \n",
            "7               vedge-sd  Feature   Continuous        None   \n",
            "8             hedge-mean  Feature   Continuous        None   \n",
            "9               hedge-sd  Feature   Continuous        None   \n",
            "10        intensity-mean  Feature   Continuous        None   \n",
            "11           rawred-mean  Feature   Continuous        None   \n",
            "12          rawblue-mean  Feature   Continuous        None   \n",
            "13         rawgreen-mean  Feature   Continuous        None   \n",
            "14            exred-mean  Feature   Continuous        None   \n",
            "15           exblue-mean  Feature   Continuous        None   \n",
            "16          exgreen-mean  Feature   Continuous        None   \n",
            "17            value-mean  Feature   Continuous        None   \n",
            "18       saturation-mean  Feature   Continuous        None   \n",
            "19              hue-mean  Feature   Continuous        None   \n",
            "\n",
            "                                          description units missing_values  \n",
            "0                                                None  None             no  \n",
            "1        the column of the center pixel of the region  None             no  \n",
            "2           the row of the center pixel of the region  None             no  \n",
            "3                the number of pixels in a region = 9  None             no  \n",
            "4   the results of a line extractoin algorithm tha...  None             no  \n",
            "5   same as short-line-density-5 but counts lines ...  None             no  \n",
            "6   measure the contrast of horizontally adjacent ...  None             no  \n",
            "7                                               see 6  None             no  \n",
            "8   measures the contrast of vertically adjacent p...  None             no  \n",
            "9                                               see 8  None             no  \n",
            "10       the average over the region of (R + G + B)/3  None             no  \n",
            "11        the average over the region of the R value.  None             no  \n",
            "12        the average over the region of the B value.  None             no  \n",
            "13        the average over the region of the G value.  None             no  \n",
            "14            measure the excess red:  (2R - (G + B))  None             no  \n",
            "15           measure the excess blue:  (2B - (G + R))  None             no  \n",
            "16          measure the excess green:  (2G - (R + B))  None             no  \n",
            "17  3-d nonlinear transformation of RGB. (Algorith...  None             no  \n",
            "18                                             see 17  None             no  \n",
            "19                                             see 17  None             no  \n"
          ]
        }
      ],
      "source": [
        "from ucimlrepo import fetch_ucirepo\n",
        "\n",
        "# fetch dataset\n",
        "image_segmentation = fetch_ucirepo(id=50)\n",
        "\n",
        "# data (as pandas dataframes)\n",
        "X = image_segmentation.data.features\n",
        "y = image_segmentation.data.targets\n",
        "\n",
        "# metadata\n",
        "print(image_segmentation.metadata)\n",
        "\n",
        "# variable information\n",
        "print(image_segmentation.variables)\n"
      ]
    },
    {
      "cell_type": "code",
      "execution_count": 4,
      "metadata": {
        "colab": {
          "base_uri": "https://localhost:8080/"
        },
        "id": "HwXQU6uoD5fk",
        "outputId": "3c81401f-a970-4a0b-9e13-38ee796b6015"
      },
      "outputs": [
        {
          "output_type": "stream",
          "name": "stdout",
          "text": [
            "\n",
            "First few rows of features:\n",
            "   region-centroid-col  region-centroid-row  region-pixel-count  \\\n",
            "0                140.0                125.0                   9   \n",
            "1                188.0                133.0                   9   \n",
            "2                105.0                139.0                   9   \n",
            "3                 34.0                137.0                   9   \n",
            "4                 39.0                111.0                   9   \n",
            "\n",
            "   short-line-density-5  short-line-density-2  vedge-mean  vedge-sd  \\\n",
            "0                   0.0                   0.0    0.277778  0.062963   \n",
            "1                   0.0                   0.0    0.333333  0.266667   \n",
            "2                   0.0                   0.0    0.277778  0.107407   \n",
            "3                   0.0                   0.0    0.500000  0.166667   \n",
            "4                   0.0                   0.0    0.722222  0.374074   \n",
            "\n",
            "   hedge-mean  hedge-sd  intensity-mean  rawred-mean  rawblue-mean  \\\n",
            "0    0.666667  0.311111        6.185185     7.333334      7.666666   \n",
            "1    0.500000  0.077778        6.666666     8.333334      7.777778   \n",
            "2    0.833333  0.522222        6.111111     7.555555      7.222222   \n",
            "3    1.111111  0.474074        5.851852     7.777778      6.444445   \n",
            "4    0.888889  0.429629        6.037037     7.000000      7.666666   \n",
            "\n",
            "   rawgreen-mean  exred-mean  exblue-mean  exgreen-mean  value-mean  \\\n",
            "0       3.555556    3.444444     4.444445     -7.888889    7.777778   \n",
            "1       3.888889    5.000000     3.333333     -8.333333    8.444445   \n",
            "2       3.555556    4.333334     3.333333     -7.666666    7.555555   \n",
            "3       3.333333    5.777778     1.777778     -7.555555    7.777778   \n",
            "4       3.444444    2.888889     4.888889     -7.777778    7.888889   \n",
            "\n",
            "   saturation-mean  hue-mean  \n",
            "0         0.545635 -1.121818  \n",
            "1         0.538580 -0.924817  \n",
            "2         0.532628 -0.965946  \n",
            "3         0.573633 -0.744272  \n",
            "4         0.562919 -1.175773  \n",
            "\n",
            "First few rows of targets:\n",
            "       class\n",
            "0  BRICKFACE\n",
            "1  BRICKFACE\n",
            "2  BRICKFACE\n",
            "3  BRICKFACE\n",
            "4  BRICKFACE\n"
          ]
        }
      ],
      "source": [
        "# Display the first few rows of the features and targets\n",
        "print(\"\\nFirst few rows of features:\")\n",
        "print(X.head())\n",
        "\n",
        "print(\"\\nFirst few rows of targets:\")\n",
        "print(y.head())\n"
      ]
    },
    {
      "cell_type": "code",
      "execution_count": 5,
      "metadata": {
        "colab": {
          "base_uri": "https://localhost:8080/"
        },
        "id": "ZOOBJ8NsDKS3",
        "outputId": "855b1a8e-e5b2-4cd0-b830-9150ee341dfa"
      },
      "outputs": [
        {
          "output_type": "stream",
          "name": "stdout",
          "text": [
            "Training set size: 126\n",
            "Validation set size: 42\n",
            "Testing set size: 42\n"
          ]
        }
      ],
      "source": [
        "from sklearn.model_selection import train_test_split\n",
        "\n",
        "# Split the data\n",
        "X_train, X_temp, y_train, y_temp = train_test_split(X, y, test_size=0.4, random_state=42)\n",
        "X_val, X_test, y_val, y_test = train_test_split(X_temp, y_temp, test_size=0.5, random_state=42)\n",
        "\n",
        "# Display sizes of the splits\n",
        "print(f\"Training set size: {len(X_train)}\")\n",
        "print(f\"Validation set size: {len(X_val)}\")\n",
        "print(f\"Testing set size: {len(X_test)}\")"
      ]
    },
    {
      "cell_type": "code",
      "execution_count": 11,
      "metadata": {
        "colab": {
          "base_uri": "https://localhost:8080/",
          "height": 1000
        },
        "id": "mN4n8ehyRtGL",
        "outputId": "3bfbc67c-fb99-49bc-bbcb-ebe1b6205967"
      },
      "outputs": [
        {
          "output_type": "stream",
          "name": "stdout",
          "text": [
            "Epoch 1/20\n",
            "\u001b[1m32/32\u001b[0m \u001b[32m━━━━━━━━━━━━━━━━━━━━\u001b[0m\u001b[37m\u001b[0m \u001b[1m9s\u001b[0m 250ms/step - accuracy: 0.1249 - loss: 2.3443 - val_accuracy: 0.1000 - val_loss: 2.3123\n",
            "Epoch 2/20\n",
            "\u001b[1m32/32\u001b[0m \u001b[32m━━━━━━━━━━━━━━━━━━━━\u001b[0m\u001b[37m\u001b[0m \u001b[1m5s\u001b[0m 158ms/step - accuracy: 0.1038 - loss: 2.3152 - val_accuracy: 0.1000 - val_loss: 2.3148\n",
            "Epoch 3/20\n",
            "\u001b[1m32/32\u001b[0m \u001b[32m━━━━━━━━━━━━━━━━━━━━\u001b[0m\u001b[37m\u001b[0m \u001b[1m6s\u001b[0m 174ms/step - accuracy: 0.0923 - loss: 2.3254 - val_accuracy: 0.1100 - val_loss: 2.3098\n",
            "Epoch 4/20\n",
            "\u001b[1m32/32\u001b[0m \u001b[32m━━━━━━━━━━━━━━━━━━━━\u001b[0m\u001b[37m\u001b[0m \u001b[1m10s\u001b[0m 161ms/step - accuracy: 0.1149 - loss: 2.3074 - val_accuracy: 0.0750 - val_loss: 2.3090\n",
            "Epoch 5/20\n",
            "\u001b[1m32/32\u001b[0m \u001b[32m━━━━━━━━━━━━━━━━━━━━\u001b[0m\u001b[37m\u001b[0m \u001b[1m10s\u001b[0m 159ms/step - accuracy: 0.1214 - loss: 2.3015 - val_accuracy: 0.1100 - val_loss: 2.3079\n",
            "Epoch 6/20\n",
            "\u001b[1m32/32\u001b[0m \u001b[32m━━━━━━━━━━━━━━━━━━━━\u001b[0m\u001b[37m\u001b[0m \u001b[1m6s\u001b[0m 195ms/step - accuracy: 0.1297 - loss: 2.3003 - val_accuracy: 0.1050 - val_loss: 2.3128\n",
            "Epoch 7/20\n",
            "\u001b[1m32/32\u001b[0m \u001b[32m━━━━━━━━━━━━━━━━━━━━\u001b[0m\u001b[37m\u001b[0m \u001b[1m6s\u001b[0m 172ms/step - accuracy: 0.1052 - loss: 2.3035 - val_accuracy: 0.1100 - val_loss: 2.3061\n",
            "Epoch 8/20\n",
            "\u001b[1m32/32\u001b[0m \u001b[32m━━━━━━━━━━━━━━━━━━━━\u001b[0m\u001b[37m\u001b[0m \u001b[1m11s\u001b[0m 212ms/step - accuracy: 0.1078 - loss: 2.2968 - val_accuracy: 0.1000 - val_loss: 2.3060\n",
            "Epoch 9/20\n",
            "\u001b[1m32/32\u001b[0m \u001b[32m━━━━━━━━━━━━━━━━━━━━\u001b[0m\u001b[37m\u001b[0m \u001b[1m5s\u001b[0m 159ms/step - accuracy: 0.1120 - loss: 2.3009 - val_accuracy: 0.0950 - val_loss: 2.3057\n",
            "Epoch 10/20\n",
            "\u001b[1m32/32\u001b[0m \u001b[32m━━━━━━━━━━━━━━━━━━━━\u001b[0m\u001b[37m\u001b[0m \u001b[1m6s\u001b[0m 196ms/step - accuracy: 0.1058 - loss: 2.2936 - val_accuracy: 0.1000 - val_loss: 2.3117\n",
            "Epoch 11/20\n",
            "\u001b[1m32/32\u001b[0m \u001b[32m━━━━━━━━━━━━━━━━━━━━\u001b[0m\u001b[37m\u001b[0m \u001b[1m9s\u001b[0m 161ms/step - accuracy: 0.1050 - loss: 2.2980 - val_accuracy: 0.1250 - val_loss: 2.3077\n",
            "Epoch 12/20\n",
            "\u001b[1m32/32\u001b[0m \u001b[32m━━━━━━━━━━━━━━━━━━━━\u001b[0m\u001b[37m\u001b[0m \u001b[1m10s\u001b[0m 162ms/step - accuracy: 0.1272 - loss: 2.2999 - val_accuracy: 0.1300 - val_loss: 2.3064\n",
            "Epoch 13/20\n",
            "\u001b[1m32/32\u001b[0m \u001b[32m━━━━━━━━━━━━━━━━━━━━\u001b[0m\u001b[37m\u001b[0m \u001b[1m10s\u001b[0m 157ms/step - accuracy: 0.1131 - loss: 2.2997 - val_accuracy: 0.0950 - val_loss: 2.3099\n",
            "Epoch 14/20\n",
            "\u001b[1m32/32\u001b[0m \u001b[32m━━━━━━━━━━━━━━━━━━━━\u001b[0m\u001b[37m\u001b[0m \u001b[1m5s\u001b[0m 168ms/step - accuracy: 0.1069 - loss: 2.2992 - val_accuracy: 0.1000 - val_loss: 2.3116\n",
            "Epoch 15/20\n",
            "\u001b[1m32/32\u001b[0m \u001b[32m━━━━━━━━━━━━━━━━━━━━\u001b[0m\u001b[37m\u001b[0m \u001b[1m6s\u001b[0m 197ms/step - accuracy: 0.1205 - loss: 2.2957 - val_accuracy: 0.0800 - val_loss: 2.3111\n",
            "Epoch 16/20\n",
            "\u001b[1m32/32\u001b[0m \u001b[32m━━━━━━━━━━━━━━━━━━━━\u001b[0m\u001b[37m\u001b[0m \u001b[1m10s\u001b[0m 209ms/step - accuracy: 0.1386 - loss: 2.2837 - val_accuracy: 0.0800 - val_loss: 2.3095\n",
            "Epoch 17/20\n",
            "\u001b[1m32/32\u001b[0m \u001b[32m━━━━━━━━━━━━━━━━━━━━\u001b[0m\u001b[37m\u001b[0m \u001b[1m5s\u001b[0m 161ms/step - accuracy: 0.1345 - loss: 2.2999 - val_accuracy: 0.0950 - val_loss: 2.3112\n",
            "Epoch 18/20\n",
            "\u001b[1m32/32\u001b[0m \u001b[32m━━━━━━━━━━━━━━━━━━━━\u001b[0m\u001b[37m\u001b[0m \u001b[1m5s\u001b[0m 164ms/step - accuracy: 0.1511 - loss: 2.2835 - val_accuracy: 0.0950 - val_loss: 2.3108\n",
            "Epoch 19/20\n",
            "\u001b[1m32/32\u001b[0m \u001b[32m━━━━━━━━━━━━━━━━━━━━\u001b[0m\u001b[37m\u001b[0m \u001b[1m7s\u001b[0m 205ms/step - accuracy: 0.1299 - loss: 2.2917 - val_accuracy: 0.0900 - val_loss: 2.3085\n",
            "Epoch 20/20\n",
            "\u001b[1m32/32\u001b[0m \u001b[32m━━━━━━━━━━━━━━━━━━━━\u001b[0m\u001b[37m\u001b[0m \u001b[1m5s\u001b[0m 156ms/step - accuracy: 0.1237 - loss: 2.2935 - val_accuracy: 0.0950 - val_loss: 2.3101\n"
          ]
        },
        {
          "output_type": "display_data",
          "data": {
            "text/plain": [
              "<Figure size 1000x500 with 1 Axes>"
            ],
            "image/png": "[encoded data removed]"
          },
          "metadata": {}
        }
      ],
      "source": [
        "import tensorflow as tf\n",
        "from tensorflow.keras.models import Sequential\n",
        "from tensorflow.keras.layers import Conv2D, MaxPooling2D, Flatten, Dense, Dropout\n",
        "from tensorflow.keras.optimizers import Adam\n",
        "import matplotlib.pyplot as plt\n",
        "\n",
        "# Define parameters\n",
        "x1, m1 = 32, 3  # Filters and kernel size for the first convolutional layer\n",
        "x2, m2 = 64, 3  # Filters and kernel size for the second convolutional layer\n",
        "x3 = 128        # Units in the fully connected layer\n",
        "d = 0.5         # Dropout rate\n",
        "K = 10          # Number of output classes\n",
        "learning_rate = 0.00001\n",
        "\n",
        "# Build the CNN model\n",
        "model = Sequential([\n",
        "    Conv2D(filters=x1, kernel_size=(m1, m1), activation='relu', input_shape=(64, 64, 3)),\n",
        "    MaxPooling2D(pool_size=(2, 2)),\n",
        "    Conv2D(filters=x2, kernel_size=(m2, m2), activation='relu'),\n",
        "    MaxPooling2D(pool_size=(2, 2)),\n",
        "    Flatten(),\n",
        "    Dense(units=x3, activation='relu'),\n",
        "    Dropout(rate=d),\n",
        "    Dense(units=K, activation='softmax')\n",
        "])\n",
        "\n",
        "# Compile the model\n",
        "model.compile(optimizer=Adam(learning_rate=learning_rate),\n",
        "              loss='sparse_categorical_crossentropy',\n",
        "              metrics=['accuracy'])\n",
        "\n",
        "# Generate dummy training and validation data\n",
        "# Replace this with your actual dataset\n",
        "import numpy as np\n",
        "X_train = np.random.rand(1000, 64, 64, 3)\n",
        "y_train = np.random.randint(0, K, 1000)\n",
        "X_val = np.random.rand(200, 64, 64, 3)\n",
        "y_val = np.random.randint(0, K, 200)\n",
        "\n",
        "# Train the model\n",
        "history = model.fit(X_train, y_train,\n",
        "                    validation_data=(X_val, y_val),\n",
        "                    epochs=20,\n",
        "                    batch_size=32)\n",
        "\n",
        "# Plot training and validation loss\n",
        "plt.figure(figsize=(10, 5))\n",
        "plt.plot(history.history['loss'], label='Training Loss')\n",
        "plt.plot(history.history['val_loss'], label='Validation Loss')\n",
        "plt.title('Training and Validation Loss')\n",
        "plt.xlabel('Epoch')\n",
        "plt.ylabel('Loss')\n",
        "plt.legend()\n",
        "plt.show()\n"
      ]
    }
  ],
  "metadata": {
    "colab": {
      "provenance": [],
      "authorship_tag": "ABX9TyOCgWyzOvsG3jSsTOo0d5ux",
      "include_colab_link": true
    },
    "kernelspec": {
      "display_name": "Python 3",
      "name": "python3"
    },
    "language_info": {
      "name": "python"
    }
  },
  "nbformat": 4,
  "nbformat_minor": 0
}