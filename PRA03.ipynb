{
  "cells": [
    {
      "cell_type": "markdown",
      "metadata": {
        "id": "view-in-github",
        "colab_type": "text"
      },
      "source": [
        "<a href=\"https://colab.research.google.com/github/KavinduJ2001/PR_A03/blob/main/PRA03.ipynb\" target=\"_parent\"><img src=\"https://colab.research.google.com/assets/colab-badge.svg\" alt=\"Open In Colab\"/></a>"
      ]
    },
    {
      "cell_type": "code",
      "execution_count": 2,
      "metadata": {
        "colab": {
          "base_uri": "https://localhost:8080/"
        },
        "id": "-Xv-zzOQ9jd0",
        "outputId": "24166e05-2bc0-417d-bb1e-305997f04a74"
      },
      "outputs": [
        {
          "output_type": "stream",
          "name": "stdout",
          "text": [
            "Mounted at /content/drive\n"
          ]
        }
      ],
      "source": [
        "from google.colab import drive\n",
        "drive.mount('/content/drive')\n"
      ]
    },
    {
      "cell_type": "code",
      "execution_count": 3,
      "metadata": {
        "id": "xIwG1G_z9WC6"
      },
      "outputs": [],
      "source": [
        "import os\n",
        "import shutil\n",
        "import random\n"
      ]
    },
    {
      "cell_type": "code",
      "execution_count": 4,
      "metadata": {
        "id": "HwXQU6uoD5fk"
      },
      "outputs": [],
      "source": [
        "# Base dataset path\n",
        "dataset_path = \"/content/drive/MyDrive/realwaste-main/RealWaste\"\n",
        "\n",
        "# Define paths for splits\n",
        "base_dir = \"/content/drive/MyDrive/realwaste-main/RealWaste_Split\"\n",
        "train_dir = os.path.join(base_dir, \"train\")\n",
        "val_dir = os.path.join(base_dir, \"val\")\n",
        "test_dir = os.path.join(base_dir, \"test\")\n",
        "\n",
        "# Create directories for train, val, test splits\n",
        "for split_dir in [train_dir, val_dir, test_dir]:\n",
        "    os.makedirs(split_dir, exist_ok=True)\n",
        "\n",
        "# Create class subdirectories in each split folder\n",
        "class_names = os.listdir(dataset_path)\n",
        "for class_name in class_names:\n",
        "    os.makedirs(os.path.join(train_dir, class_name), exist_ok=True)\n",
        "    os.makedirs(os.path.join(val_dir, class_name), exist_ok=True)\n",
        "    os.makedirs(os.path.join(test_dir, class_name), exist_ok=True)\n"
      ]
    },
    {
      "cell_type": "code",
      "execution_count": 5,
      "metadata": {
        "id": "ZOOBJ8NsDKS3"
      },
      "outputs": [],
      "source": [
        "# Split ratio\n",
        "train_ratio = 0.6\n",
        "val_ratio = 0.2\n",
        "test_ratio = 0.2\n",
        "\n",
        "# Iterate through each class folder\n",
        "for class_name in class_names:\n",
        "    class_path = os.path.join(dataset_path, class_name)\n",
        "    images = os.listdir(class_path)\n",
        "\n",
        "    # Shuffle images randomly\n",
        "    random.shuffle(images)\n",
        "\n",
        "    # Calculate split indices\n",
        "    train_count = int(len(images) * train_ratio)\n",
        "    val_count = int(len(images) * val_ratio)\n",
        "\n",
        "    # Split the dataset\n",
        "    train_images = images[:train_count]\n",
        "    val_images = images[train_count:train_count + val_count]\n",
        "    test_images = images[train_count + val_count:]\n",
        "\n",
        "    # Move files to their respective directories\n",
        "    for image in train_images:\n",
        "        shutil.copy(os.path.join(class_path, image), os.path.join(train_dir, class_name))\n",
        "    for image in val_images:\n",
        "        shutil.copy(os.path.join(class_path, image), os.path.join(val_dir, class_name))\n",
        "    for image in test_images:\n",
        "        shutil.copy(os.path.join(class_path, image), os.path.join(test_dir, class_name))\n"
      ]
    },
    {
      "cell_type": "code",
      "execution_count": 6,
      "metadata": {
        "colab": {
          "base_uri": "https://localhost:8080/"
        },
        "id": "mN4n8ehyRtGL",
        "outputId": "e540daac-0ebb-473c-986a-8e02a7e36d6c"
      },
      "outputs": [
        {
          "output_type": "stream",
          "name": "stdout",
          "text": [
            "Training images: 2848\n",
            "Validation images: 949\n",
            "Testing images: 955\n"
          ]
        }
      ],
      "source": [
        "def count_images(directory):\n",
        "    total = 0\n",
        "    for class_name in os.listdir(directory):\n",
        "        total += len(os.listdir(os.path.join(directory, class_name)))\n",
        "    return total\n",
        "\n",
        "print(f\"Training images: {count_images(train_dir)}\")\n",
        "print(f\"Validation images: {count_images(val_dir)}\")\n",
        "print(f\"Testing images: {count_images(test_dir)}\")\n"
      ]
    },
    {
      "cell_type": "code",
      "source": [
        "from torchvision import datasets, transforms\n",
        "from torch.utils.data import DataLoader, random_split\n",
        "\n",
        "# Transforms\n",
        "transform = transforms.Compose([\n",
        "    transforms.Resize((32, 32)),  # Resize to match input size\n",
        "    transforms.ToTensor()\n",
        "])\n",
        "\n",
        "# Dataset\n",
        "dataset = datasets.ImageFolder('/content/drive/MyDrive/realwaste-main/RealWaste', transform=transform)\n",
        "\n",
        "# Splitting dataset\n",
        "train_size = int(0.6 * len(dataset))\n",
        "val_size = int(0.2 * len(dataset))\n",
        "test_size = len(dataset) - train_size - val_size\n",
        "train_dataset, val_dataset, test_dataset = random_split(dataset, [train_size, val_size, test_size])\n",
        "\n",
        "# DataLoaders\n",
        "train_loader = DataLoader(train_dataset, batch_size=32, shuffle=True)\n",
        "val_loader = DataLoader(val_dataset, batch_size=32, shuffle=False)\n",
        "test_loader = DataLoader(test_dataset, batch_size=32, shuffle=False)\n"
      ],
      "metadata": {
        "id": "x5WyQyghcap5"
      },
      "execution_count": 8,
      "outputs": []
    },
    {
      "cell_type": "code",
      "source": [
        "import torch\n",
        "import torch.nn as nn\n",
        "import torch.nn.functional as F\n",
        "\n",
        "class BasicCNN(nn.Module):\n",
        "    def __init__(self, x1=32, m1=3, x2=64, m2=3, x3=128, d=0.5, num_classes=9):\n",
        "        \"\"\"\n",
        "        Args:\n",
        "        - x1: Number of filters in the first convolutional layer\n",
        "        - m1: Kernel size for the first convolutional layer\n",
        "        - x2: Number of filters in the second convolutional layer\n",
        "        - m2: Kernel size for the second convolutional layer\n",
        "        - x3: Number of units in the fully connected layer\n",
        "        - d: Dropout rate\n",
        "        - num_classes: Number of output classes\n",
        "        \"\"\"\n",
        "        super(BasicCNN, self).__init__()\n",
        "\n",
        "        # First Convolutional Block\n",
        "        self.conv1 = nn.Conv2d(in_channels=3, out_channels=x1, kernel_size=m1, padding=1)\n",
        "        self.pool1 = nn.MaxPool2d(kernel_size=2, stride=2)\n",
        "\n",
        "        # Second Convolutional Block\n",
        "        self.conv2 = nn.Conv2d(in_channels=x1, out_channels=x2, kernel_size=m2, padding=1)\n",
        "        self.pool2 = nn.MaxPool2d(kernel_size=2, stride=2)\n",
        "\n",
        "        # Fully Connected Layers\n",
        "        self.flatten = nn.Flatten()\n",
        "        self.fc1 = nn.Linear(x2 * 8 * 8, x3)  # Assuming input images are 32x32\n",
        "        self.dropout = nn.Dropout(p=d)\n",
        "        self.fc2 = nn.Linear(x3, num_classes)\n",
        "\n",
        "    def forward(self, x):\n",
        "        # Forward pass through Convolutional and Pooling layers\n",
        "        x = F.relu(self.conv1(x))\n",
        "        x = self.pool1(x)\n",
        "        x = F.relu(self.conv2(x))\n",
        "        x = self.pool2(x)\n",
        "\n",
        "        # Flatten the output and pass through fully connected layers\n",
        "        x = self.flatten(x)\n",
        "        x = F.relu(self.fc1(x))\n",
        "        x = self.dropout(x)\n",
        "        x = self.fc2(x)\n",
        "\n",
        "        # Apply softmax to get class probabilities\n",
        "        return F.log_softmax(x, dim=1)\n",
        "\n",
        "# Example usage\n",
        "model = BasicCNN(x1=32, m1=3, x2=64, m2=3, x3=128, d=0.5, num_classes=9)\n",
        "print(model)\n"
      ],
      "metadata": {
        "colab": {
          "base_uri": "https://localhost:8080/"
        },
        "id": "H3JqPGE9JM0n",
        "outputId": "fd406526-c5eb-4c5b-cfc5-411296a1fae8"
      },
      "execution_count": 7,
      "outputs": [
        {
          "output_type": "stream",
          "name": "stdout",
          "text": [
            "BasicCNN(\n",
            "  (conv1): Conv2d(3, 32, kernel_size=(3, 3), stride=(1, 1), padding=(1, 1))\n",
            "  (pool1): MaxPool2d(kernel_size=2, stride=2, padding=0, dilation=1, ceil_mode=False)\n",
            "  (conv2): Conv2d(32, 64, kernel_size=(3, 3), stride=(1, 1), padding=(1, 1))\n",
            "  (pool2): MaxPool2d(kernel_size=2, stride=2, padding=0, dilation=1, ceil_mode=False)\n",
            "  (flatten): Flatten(start_dim=1, end_dim=-1)\n",
            "  (fc1): Linear(in_features=4096, out_features=128, bias=True)\n",
            "  (dropout): Dropout(p=0.5, inplace=False)\n",
            "  (fc2): Linear(in_features=128, out_features=9, bias=True)\n",
            ")\n"
          ]
        }
      ]
    },
    {
      "cell_type": "code",
      "source": [
        "import torch\n",
        "import torch.nn as nn\n",
        "import torch.optim as optim\n",
        "from torch.utils.data import DataLoader\n",
        "import matplotlib.pyplot as plt\n",
        "\n",
        "# Assuming the model is defined as `BasicCNN` and train_loader, val_loader are defined\n",
        "device = torch.device(\"cuda\" if torch.cuda.is_available() else \"cpu\")\n",
        "\n",
        "# Model initialization\n",
        "model = BasicCNN(x1=32, m1=3, x2=64, m2=3, x3=128, d=0.5, num_classes=9).to(device)\n",
        "\n",
        "# Define loss function and optimizer\n",
        "criterion = nn.CrossEntropyLoss()\n",
        "optimizer = optim.Adam(model.parameters(), lr=0.01)\n",
        "\n",
        "# Training and validation\n",
        "num_epochs = 20\n",
        "train_losses = []\n",
        "val_losses = []\n",
        "\n",
        "for epoch in range(num_epochs):\n",
        "    # Training phase\n",
        "    model.train()\n",
        "    train_loss = 0.0\n",
        "    for images, labels in train_loader:\n",
        "        images, labels = images.to(device), labels.to(device)\n",
        "\n",
        "        optimizer.zero_grad()\n",
        "        outputs = model(images)\n",
        "        loss = criterion(outputs, labels)\n",
        "        loss.backward()\n",
        "        optimizer.step()\n",
        "\n",
        "        train_loss += loss.item()\n",
        "    train_losses.append(train_loss / len(train_loader))\n",
        "\n",
        "    # Validation phase\n",
        "    model.eval()\n",
        "    val_loss = 0.0\n",
        "    with torch.no_grad():\n",
        "        for images, labels in val_loader:\n",
        "            images, labels = images.to(device), labels.to(device)\n",
        "            outputs = model(images)\n",
        "            loss = criterion(outputs, labels)\n",
        "            val_loss += loss.item()\n",
        "    val_losses.append(val_loss / len(val_loader))\n",
        "\n",
        "    print(f\"Epoch {epoch+1}/{num_epochs}, Train Loss: {train_losses[-1]:.4f}, Val Loss: {val_losses[-1]:.4f}\")\n",
        "\n",
        "# Plotting training and validation loss\n",
        "plt.figure(figsize=(8, 6))\n",
        "plt.plot(range(1, num_epochs+1), train_losses, label='Training Loss')\n",
        "plt.plot(range(1, num_epochs+1), val_losses, label='Validation Loss')\n",
        "plt.xlabel('Epochs')\n",
        "plt.ylabel('Loss')\n",
        "plt.title('Training and Validation Loss')\n",
        "plt.legend()\n",
        "plt.grid()\n",
        "plt.show()\n"
      ],
      "metadata": {
        "colab": {
          "base_uri": "https://localhost:8080/",
          "height": 892
        },
        "id": "Jz5Bk5GRcwZP",
        "outputId": "0ed9d5a5-2227-4707-dcd9-ad5248754608"
      },
      "execution_count": 10,
      "outputs": [
        {
          "output_type": "stream",
          "name": "stdout",
          "text": [
            "Epoch 1/20, Train Loss: 2.2013, Val Loss: 2.1425\n",
            "Epoch 2/20, Train Loss: 2.1522, Val Loss: 2.1394\n",
            "Epoch 3/20, Train Loss: 2.1486, Val Loss: 2.1390\n",
            "Epoch 4/20, Train Loss: 2.1474, Val Loss: 2.1417\n",
            "Epoch 5/20, Train Loss: 2.1497, Val Loss: 2.1417\n",
            "Epoch 6/20, Train Loss: 2.1497, Val Loss: 2.1394\n",
            "Epoch 7/20, Train Loss: 2.1510, Val Loss: 2.1387\n",
            "Epoch 8/20, Train Loss: 2.1501, Val Loss: 2.1376\n",
            "Epoch 9/20, Train Loss: 2.1463, Val Loss: 2.1393\n",
            "Epoch 10/20, Train Loss: 2.1476, Val Loss: 2.1388\n",
            "Epoch 11/20, Train Loss: 2.1478, Val Loss: 2.1391\n",
            "Epoch 12/20, Train Loss: 2.1489, Val Loss: 2.1386\n",
            "Epoch 13/20, Train Loss: 2.1475, Val Loss: 2.1385\n",
            "Epoch 14/20, Train Loss: 2.1465, Val Loss: 2.1379\n",
            "Epoch 15/20, Train Loss: 2.1450, Val Loss: 2.1381\n",
            "Epoch 16/20, Train Loss: 2.1498, Val Loss: 2.1383\n",
            "Epoch 17/20, Train Loss: 2.1490, Val Loss: 2.1392\n",
            "Epoch 18/20, Train Loss: 2.1491, Val Loss: 2.1396\n",
            "Epoch 19/20, Train Loss: 2.1490, Val Loss: 2.1390\n",
            "Epoch 20/20, Train Loss: 2.1499, Val Loss: 2.1391\n"
          ]
        },
        {
          "output_type": "display_data",
          "data": {
            "text/plain": [
              "<Figure size 800x600 with 1 Axes>"
            ],
            "image/png": "[encoded data removed]"
          },
          "metadata": {}
        }
      ]
    },
    {
      "cell_type": "code",
      "source": [
        "from sklearn.metrics import classification_report, confusion_matrix\n",
        "\n",
        "# Function to test the model\n",
        "def test_model(model, test_loader):\n",
        "    model.eval()  # Set model to evaluation mode\n",
        "    correct = 0\n",
        "    total = 0\n",
        "    all_preds = []\n",
        "    all_labels = []\n",
        "\n",
        "    with torch.no_grad():\n",
        "        for images, labels in test_loader:\n",
        "            images, labels = images.to(device), labels.to(device)\n",
        "            outputs = model(images)\n",
        "            _, predicted = torch.max(outputs, 1)  # Get the class index with max probability\n",
        "            total += labels.size(0)\n",
        "            correct += (predicted == labels).sum().item()\n",
        "\n",
        "            # Append predictions and true labels for detailed analysis\n",
        "            all_preds.extend(predicted.cpu().numpy())\n",
        "            all_labels.extend(labels.cpu().numpy())\n",
        "\n",
        "    # Calculate accuracy\n",
        "    accuracy = 100 * correct / total\n",
        "    print(f\"Test Accuracy: {accuracy:.2f}%\")\n",
        "\n",
        "    # Generate classification report and confusion matrix\n",
        "    print(\"\\nClassification Report:\")\n",
        "    print(classification_report(all_labels, all_preds, target_names=test_dataset.dataset.classes))\n",
        "\n",
        "    print(\"\\nConfusion Matrix:\")\n",
        "    print(confusion_matrix(all_labels, all_preds))\n",
        "\n",
        "# Test the model\n",
        "test_model(model, test_loader)\n"
      ],
      "metadata": {
        "colab": {
          "base_uri": "https://localhost:8080/"
        },
        "id": "xCDrBzJMcw6M",
        "outputId": "fc550b49-249d-4766-b1d7-919b408019d1"
      },
      "execution_count": 11,
      "outputs": [
        {
          "output_type": "stream",
          "name": "stdout",
          "text": [
            "Test Accuracy: 19.87%\n",
            "\n",
            "Classification Report:\n",
            "                     precision    recall  f1-score   support\n",
            "\n",
            "          Cardboard       0.00      0.00      0.00        88\n",
            "      Food Organics       0.00      0.00      0.00        79\n",
            "              Glass       0.00      0.00      0.00        86\n",
            "              Metal       0.00      0.00      0.00       171\n",
            "Miscellaneous Trash       0.00      0.00      0.00        89\n",
            "              Paper       0.00      0.00      0.00       101\n",
            "            Plastic       0.20      1.00      0.33       189\n",
            "      Textile Trash       0.00      0.00      0.00        70\n",
            "         Vegetation       0.00      0.00      0.00        78\n",
            "\n",
            "           accuracy                           0.20       951\n",
            "          macro avg       0.02      0.11      0.04       951\n",
            "       weighted avg       0.04      0.20      0.07       951\n",
            "\n",
            "\n",
            "Confusion Matrix:\n",
            "[[  0   0   0   0   0   0  88   0   0]\n",
            " [  0   0   0   0   0   0  79   0   0]\n",
            " [  0   0   0   0   0   0  86   0   0]\n",
            " [  0   0   0   0   0   0 171   0   0]\n",
            " [  0   0   0   0   0   0  89   0   0]\n",
            " [  0   0   0   0   0   0 101   0   0]\n",
            " [  0   0   0   0   0   0 189   0   0]\n",
            " [  0   0   0   0   0   0  70   0   0]\n",
            " [  0   0   0   0   0   0  78   0   0]]\n"
          ]
        },
        {
          "output_type": "stream",
          "name": "stderr",
          "text": [
            "/usr/local/lib/python3.10/dist-packages/sklearn/metrics/_classification.py:1531: UndefinedMetricWarning: Precision is ill-defined and being set to 0.0 in labels with no predicted samples. Use `zero_division` parameter to control this behavior.\n",
            "  _warn_prf(average, modifier, f\"{metric.capitalize()} is\", len(result))\n",
            "/usr/local/lib/python3.10/dist-packages/sklearn/metrics/_classification.py:1531: UndefinedMetricWarning: Precision is ill-defined and being set to 0.0 in labels with no predicted samples. Use `zero_division` parameter to control this behavior.\n",
            "  _warn_prf(average, modifier, f\"{metric.capitalize()} is\", len(result))\n",
            "/usr/local/lib/python3.10/dist-packages/sklearn/metrics/_classification.py:1531: UndefinedMetricWarning: Precision is ill-defined and being set to 0.0 in labels with no predicted samples. Use `zero_division` parameter to control this behavior.\n",
            "  _warn_prf(average, modifier, f\"{metric.capitalize()} is\", len(result))\n"
          ]
        }
      ]
    },
    {
      "cell_type": "markdown",
      "source": [
        "# Second"
      ],
      "metadata": {
        "id": "AB4WDxFsoIO7"
      }
    },
    {
      "cell_type": "code",
      "source": [
        "import torch\n",
        "import torch.nn as nn\n",
        "import torch.nn.functional as F\n",
        "import torch.optim as optim\n",
        "from torch.utils.data import DataLoader, random_split\n",
        "from torchvision import datasets, transforms\n",
        "import matplotlib.pyplot as plt\n",
        "from sklearn.metrics import accuracy_score, confusion_matrix, classification_report\n",
        "\n",
        "# Check for GPU\n",
        "device = torch.device(\"cuda\" if torch.cuda.is_available() else \"cpu\")\n",
        "\n",
        "# Path to dataset\n",
        "data_dir = \"/content/drive/MyDrive/realwaste-main/RealWaste\"\n",
        "\n",
        "# Define transformations\n",
        "transform = transforms.Compose([\n",
        "    transforms.Resize((224, 224)),  # Resize images to 224x224\n",
        "    transforms.ToTensor(),\n",
        "    transforms.Normalize(mean=[0.485, 0.456, 0.406], std=[0.229, 0.224, 0.225])\n",
        "])\n",
        "\n",
        "# Load dataset\n",
        "dataset = datasets.ImageFolder(root=data_dir, transform=transform)\n",
        "class_names = dataset.classes\n",
        "\n",
        "# Split dataset (60% train, 20% val, 20% test)\n",
        "train_size = int(0.6 * len(dataset))\n",
        "val_size = int(0.2 * len(dataset))\n",
        "test_size = len(dataset) - train_size - val_size\n",
        "train_dataset, val_dataset, test_dataset = random_split(dataset, [train_size, val_size, test_size])\n",
        "\n",
        "# Data loaders\n",
        "train_loader = DataLoader(train_dataset, batch_size=32, shuffle=True)\n",
        "val_loader = DataLoader(val_dataset, batch_size=32, shuffle=False)\n",
        "test_loader = DataLoader(test_dataset, batch_size=32, shuffle=False)\n",
        "\n",
        "# Define the CNN model\n",
        "class RealWasteNet(nn.Module):\n",
        "    def __init__(self):\n",
        "        super(RealWasteNet, self).__init__()\n",
        "        self.conv1 = nn.Conv2d(3, 32, kernel_size=3, padding=1)\n",
        "        self.conv2 = nn.Conv2d(32, 64, kernel_size=3, padding=1)\n",
        "        self.conv3 = nn.Conv2d(64, 128, kernel_size=3, padding=1)\n",
        "        self.pool = nn.MaxPool2d(2, 2)\n",
        "        self.fc1 = nn.Linear(128 * 28 * 28, 512)  # Adjusted for 224x224 input size\n",
        "        self.fc2 = nn.Linear(512, 128)\n",
        "        self.fc3 = nn.Linear(128, len(class_names))  # Number of classes\n",
        "        self.dropout = nn.Dropout(0.5)\n",
        "\n",
        "    def forward(self, x):\n",
        "        x = self.pool(F.relu(self.conv1(x)))\n",
        "        x = self.pool(F.relu(self.conv2(x)))\n",
        "        x = self.pool(F.relu(self.conv3(x)))\n",
        "        x = x.view(-1, 128 * 28 * 28)  # Flatten\n",
        "        x = self.dropout(F.relu(self.fc1(x)))\n",
        "        x = self.dropout(F.relu(self.fc2(x)))\n",
        "        x = self.fc3(x)\n",
        "        return x\n",
        "\n",
        "# Initialize model, loss function, and optimizer\n",
        "model = RealWasteNet().to(device)\n",
        "criterion = nn.CrossEntropyLoss()\n",
        "optimizer = optim.Adam(model.parameters(), lr=1e-3)\n",
        "scheduler = optim.lr_scheduler.ReduceLROnPlateau(optimizer, mode='min', factor=0.1, patience=3)\n",
        "\n",
        "# Training the model\n",
        "n_epochs = 20\n",
        "train_loss_list, val_loss_list = [], []\n",
        "\n",
        "for epoch in range(n_epochs):\n",
        "    model.train()\n",
        "    train_loss = 0.0\n",
        "    for images, labels in train_loader:\n",
        "        images, labels = images.to(device), labels.to(device)\n",
        "        optimizer.zero_grad()\n",
        "        outputs = model(images)\n",
        "        loss = criterion(outputs, labels)\n",
        "        loss.backward()\n",
        "        optimizer.step()\n",
        "        train_loss += loss.item() * images.size(0)\n",
        "\n",
        "    model.eval()\n",
        "    val_loss = 0.0\n",
        "    with torch.no_grad():\n",
        "        for images, labels in val_loader:\n",
        "            images, labels = images.to(device), labels.to(device)\n",
        "            outputs = model(images)\n",
        "            loss = criterion(outputs, labels)\n",
        "            val_loss += loss.item() * images.size(0)\n",
        "\n",
        "    train_loss = train_loss / len(train_loader.dataset)\n",
        "    val_loss = val_loss / len(val_loader.dataset)\n",
        "    train_loss_list.append(train_loss)\n",
        "    val_loss_list.append(val_loss)\n",
        "\n",
        "    scheduler.step(val_loss)\n",
        "\n",
        "    print(f\"Epoch {epoch+1}, Train Loss: {train_loss:.4f}, Validation Loss: {val_loss:.4f}\")\n",
        "\n",
        "# Plot training and validation loss\n",
        "plt.plot(range(1, n_epochs + 1), train_loss_list, label='Training Loss')\n",
        "plt.plot(range(1, n_epochs + 1), val_loss_list, label='Validation Loss')\n",
        "plt.xlabel(\"Epoch\")\n",
        "plt.ylabel(\"Loss\")\n",
        "plt.title(\"Training and Validation Loss\")\n",
        "plt.legend()\n",
        "plt.show()\n",
        "\n",
        "# Testing the model\n",
        "model.eval()\n",
        "true_labels, predicted_labels = [], []\n",
        "\n",
        "with torch.no_grad():\n",
        "    for images, labels in test_loader:\n",
        "        images, labels = images.to(device), labels.to(device)\n",
        "        outputs = model(images)\n",
        "        _, preds = torch.max(outputs, 1)\n",
        "        true_labels.extend(labels.cpu().numpy())\n",
        "        predicted_labels.extend(preds.cpu().numpy())\n",
        "\n",
        "# Calculate accuracy\n",
        "test_accuracy = accuracy_score(true_labels, predicted_labels)\n",
        "print(f\"Test Accuracy: {test_accuracy:.2%}\")\n",
        "\n",
        "# Confusion Matrix and Classification Report\n",
        "conf_matrix = confusion_matrix(true_labels, predicted_labels)\n",
        "class_report = classification_report(true_labels, predicted_labels, target_names=class_names)\n",
        "print(\"Confusion Matrix:\\\\n\", conf_matrix)\n",
        "print(\"Classification Report:\\\\n\", class_report)\n"
      ],
      "metadata": {
        "colab": {
          "base_uri": "https://localhost:8080/"
        },
        "id": "cxucUNecplOG",
        "outputId": "f0f0a4b6-92c4-4895-929e-d899fe9e412b"
      },
      "execution_count": null,
      "outputs": [
        {
          "metadata": {
            "tags": null
          },
          "name": "stdout",
          "output_type": "stream",
          "text": [
            "Epoch 1, Train Loss: 2.0586, Validation Loss: 1.8051\n"
          ]
        }
      ]
    }
  ],
  "metadata": {
    "colab": {
      "provenance": [],
      "authorship_tag": "ABX9TyPdB7sJjAJckSw2LEyNb5k4",
      "include_colab_link": true
    },
    "kernelspec": {
      "display_name": "Python 3",
      "name": "python3"
    },
    "language_info": {
      "name": "python"
    }
  },
  "nbformat": 4,
  "nbformat_minor": 0
}